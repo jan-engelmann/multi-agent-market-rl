{
 "cells": [
  {
   "cell_type": "code",
   "execution_count": 1,
   "metadata": {},
   "outputs": [],
   "source": [
    "import pandas as pd\n",
    "import numpy as np\n",
    "import matplotlib.pyplot as plt\n",
    "\n",
    "import warnings\n",
    "warnings.filterwarnings('ignore')\n",
    "\n",
    "from stable_baselines import DQN\n",
    "from stable_baselines.common.vec_env import DummyVecEnv\n",
    "\n",
    "from dmarket.environments import SingleAgentTrainingEnv\n",
    "from dmarket.agents import UniformRandomAgent, GymRLAgent, TimeLinearAgent, TimeDependentAgent\n",
    "from dmarket.info_settings import OfferInformationSetting, TimeInformationWrapper"
   ]
  },
  {
   "cell_type": "markdown",
   "metadata": {},
   "source": [
    "Consider a simple memory-based seller. The seller offers in the interval ``[50, 100]`` and has the following strategy. If he sees that someone is bidding above 90, he will increase ``count`` by one in his internal memory. He will then offer ``100 - count``. If, however, during some round ``count >= 3``, then he will throw a large discount and offer to sell at 50."
   ]
  },
  {
   "cell_type": "code",
   "execution_count": 2,
   "metadata": {},
   "outputs": [],
   "source": [
    "class TrickySeller(TimeDependentAgent):\n",
    "    def compute_offer(self, obs, time):\n",
    "        if time == 0:\n",
    "            self.count = 0\n",
    "            \n",
    "        if self.count >= 3:\n",
    "            # DISCOUNT TIME!!!\n",
    "            return 50\n",
    "        else:\n",
    "            best_bid = obs[0][0]\n",
    "            if best_bid >= 90:\n",
    "                self.count += 1\n",
    "            return 100 - self.count"
   ]
  },
  {
   "cell_type": "markdown",
   "metadata": {},
   "source": [
    "Set up environment for baselines training!"
   ]
  },
  {
   "cell_type": "code",
   "execution_count": 3,
   "metadata": {},
   "outputs": [],
   "source": [
    "rl_agent = GymRLAgent('buyer', 100, 'B1', max_factor=0.5, discretization=10)\n",
    "\n",
    "fixed_agents = [\n",
    "    TrickySeller('seller', 50,  'TS')\n",
    "]\n",
    "\n",
    "setting = TimeInformationWrapper(OfferInformationSetting(1))\n",
    "\n",
    "def get_env(rl_agent, fixed_agents, setting):\n",
    "    return SingleAgentTrainingEnv(rl_agent, fixed_agents, setting)\n",
    "\n",
    "env = DummyVecEnv([lambda: get_env(rl_agent, fixed_agents, setting)]) # wrap it for baselines"
   ]
  },
  {
   "cell_type": "markdown",
   "metadata": {},
   "source": [
    "Since the RL-agent has a discrete action space (integers from 0 to 9 inclusive), let's see what prices RL agent can offer:"
   ]
  },
  {
   "cell_type": "code",
   "execution_count": 4,
   "metadata": {},
   "outputs": [
    {
     "data": {
      "text/plain": [
       "[(0, 100.0),\n",
       " (1, 95.0),\n",
       " (2, 90.0),\n",
       " (3, 85.0),\n",
       " (4, 80.0),\n",
       " (5, 75.0),\n",
       " (6, 70.0),\n",
       " (7, 65.0),\n",
       " (8, 60.0),\n",
       " (9, 55.0)]"
      ]
     },
     "execution_count": 4,
     "metadata": {},
     "output_type": "execute_result"
    }
   ],
   "source": [
    "[(action, rl_agent.action_to_price(action)) for action in range(rl_agent.discretization)]"
   ]
  },
  {
   "cell_type": "markdown",
   "metadata": {},
   "source": [
    "Hence, the maximal reward the agent can get is 47.5. To do this, he needs to follow the following sequence: offer 3 times 95 to trigger the seller and then offer 55. At the last step, the seller will offer 50, so the midprice would be 52.5."
   ]
  },
  {
   "cell_type": "markdown",
   "metadata": {},
   "source": [
    "Let's see if the DQN algorithm can learn this simple policy. **Note: the RL agent will not be able to access the time information, only the last best offers**. The seller will signal how long until it will drop the price by 50.\n",
    "\n",
    "We will set the algorithm to do a lot of exploration: anywhere between 30% to 50% of the time it will do something random. The discount rate is set to 90%, so that the agent is pushed to quickly trigger the correct sequence to obtain the reward."
   ]
  },
  {
   "cell_type": "code",
   "execution_count": 5,
   "metadata": {},
   "outputs": [
   ],
   "source": [
    "model = DQN(\"LnMlpPolicy\", env, verbose=1, \n",
    "            gamma=0.90, exploration_fraction=0.5,\n",
    "            exploration_final_eps=0.3,\n",
    "            prioritized_replay=True)"
   ]
  },
  {
   "cell_type": "markdown",
   "metadata": {},
   "source": [
    "Learn for 10000 steps, which should take about a minute."
   ]
  },
  {
   "cell_type": "code",
   "execution_count": 6,
   "metadata": {},
   "outputs": [
    {
     "name": "stdout",
     "output_type": "stream",
     "text": [
      "--------------------------------------\n",
      "| % time spent exploring  | 89       |\n",
      "| episodes                | 100      |\n",
      "| mean 100 episode reward | 11.6     |\n",
      "| steps                   | 730      |\n",
      "--------------------------------------\n",
      "--------------------------------------\n",
      "| % time spent exploring  | 76       |\n",
      "| episodes                | 200      |\n",
      "| mean 100 episode reward | 10.5     |\n",
      "| steps                   | 1643     |\n",
      "--------------------------------------\n",
      "--------------------------------------\n",
      "| % time spent exploring  | 66       |\n",
      "| episodes                | 300      |\n",
      "| mean 100 episode reward | 19.8     |\n",
      "| steps                   | 2414     |\n",
      "--------------------------------------\n",
      "--------------------------------------\n",
      "| % time spent exploring  | 56       |\n",
      "| episodes                | 400      |\n",
      "| mean 100 episode reward | 24.7     |\n",
      "| steps                   | 3112     |\n",
      "--------------------------------------\n",
      "--------------------------------------\n",
      "| % time spent exploring  | 47       |\n",
      "| episodes                | 500      |\n",
      "| mean 100 episode reward | 25.9     |\n",
      "| steps                   | 3725     |\n",
      "--------------------------------------\n",
      "--------------------------------------\n",
      "| % time spent exploring  | 39       |\n",
      "| episodes                | 600      |\n",
      "| mean 100 episode reward | 32.5     |\n",
      "| steps                   | 4305     |\n",
      "--------------------------------------\n",
      "--------------------------------------\n",
      "| % time spent exploring  | 31       |\n",
      "| episodes                | 700      |\n",
      "| mean 100 episode reward | 35.5     |\n",
      "| steps                   | 4859     |\n",
      "--------------------------------------\n",
      "--------------------------------------\n",
      "| % time spent exploring  | 30       |\n",
      "| episodes                | 800      |\n",
      "| mean 100 episode reward | 40.5     |\n",
      "| steps                   | 5414     |\n",
      "--------------------------------------\n",
      "--------------------------------------\n",
      "| % time spent exploring  | 30       |\n",
      "| episodes                | 900      |\n",
      "| mean 100 episode reward | 38.7     |\n",
      "| steps                   | 5945     |\n",
      "--------------------------------------\n",
      "--------------------------------------\n",
      "| % time spent exploring  | 30       |\n",
      "| episodes                | 1000     |\n",
      "| mean 100 episode reward | 38.7     |\n",
      "| steps                   | 6497     |\n",
      "--------------------------------------\n",
      "--------------------------------------\n",
      "| % time spent exploring  | 30       |\n",
      "| episodes                | 1100     |\n",
      "| mean 100 episode reward | 37.2     |\n",
      "| steps                   | 7040     |\n",
      "--------------------------------------\n",
      "--------------------------------------\n",
      "| % time spent exploring  | 30       |\n",
      "| episodes                | 1200     |\n",
      "| mean 100 episode reward | 40       |\n",
      "| steps                   | 7587     |\n",
      "--------------------------------------\n",
      "--------------------------------------\n",
      "| % time spent exploring  | 30       |\n",
      "| episodes                | 1300     |\n",
      "| mean 100 episode reward | 37.4     |\n",
      "| steps                   | 8128     |\n",
      "--------------------------------------\n",
      "--------------------------------------\n",
      "| % time spent exploring  | 30       |\n",
      "| episodes                | 1400     |\n",
      "| mean 100 episode reward | 38.9     |\n",
      "| steps                   | 8649     |\n",
      "--------------------------------------\n",
      "--------------------------------------\n",
      "| % time spent exploring  | 30       |\n",
      "| episodes                | 1500     |\n",
      "| mean 100 episode reward | 38.3     |\n",
      "| steps                   | 9196     |\n",
      "--------------------------------------\n",
      "--------------------------------------\n",
      "| % time spent exploring  | 30       |\n",
      "| episodes                | 1600     |\n",
      "| mean 100 episode reward | 38.7     |\n",
      "| steps                   | 9732     |\n",
      "--------------------------------------\n",
      "CPU times: user 1min 47s, sys: 4.6 s, total: 1min 52s\n",
      "Wall time: 1min 9s\n"
     ]
    },
    {
     "data": {
      "text/plain": [
       "<stable_baselines.deepq.dqn.DQN at 0x7f9c04c49850>"
      ]
     },
     "execution_count": 6,
     "metadata": {},
     "output_type": "execute_result"
    }
   ],
   "source": [
    "%%time\n",
    "model.learn(total_timesteps=10000)"
   ]
  },
  {
   "cell_type": "markdown",
   "metadata": {},
   "source": [
    "Let's visualize the agent's policy in a probability heatmap."
   ]
  },
  {
   "cell_type": "code",
   "execution_count": 7,
   "metadata": {},
   "outputs": [],
   "source": [
    "rl_agent.model = model"
   ]
  },
  {
   "cell_type": "code",
   "execution_count": 8,
   "metadata": {},
   "outputs": [],
   "source": [
    "def plot_transition(agent):\n",
    "    data = []\n",
    "    for price in range(100, 50, -1):\n",
    "        data.append(agent.model.action_probability(\n",
    "            rl_agent.normalize(np.array([\n",
    "                [0],\n",
    "                [price],\n",
    "            ])\n",
    "        )))\n",
    "    \n",
    "    min_offer = agent._a\n",
    "    max_offer = agent._b\n",
    "    plt.imshow(np.array(data), extent=[max_offer, min_offer, min_offer, max_offer])\n",
    "    plt.xlabel('Next offer probability')\n",
    "    plt.ylabel('Best last ask')\n",
    "    plt.colorbar()"
   ]
  },
  {
   "cell_type": "code",
   "execution_count": 9,
   "metadata": {},
   "outputs": [
    {
     "data": {
      "image/png": "[encoded data removed]",
      "text/plain": [
       "<Figure size 432x288 with 2 Axes>"
      ]
     },
     "metadata": {
      "needs_background": "light"
     },
     "output_type": "display_data"
    }
   ],
   "source": [
    "plot_transition(rl_agent)"
   ]
  },
  {
   "cell_type": "markdown",
   "metadata": {},
   "source": [
    "We see that the agent has succesfully learned to exploit the situation! In the graph, if the seller is asking for something close 100, the RL buyer will likely offer a high price to trigger the seller."
   ]
  }
 ],
 "metadata": {
  "kernelspec": {
   "display_name": "abm",
   "language": "python",
   "name": "abm"
  },
  "language_info": {
   "codemirror_mode": {
    "name": "ipython",
    "version": 3
   },
   "file_extension": ".py",
   "mimetype": "text/x-python",
   "name": "python",
   "nbconvert_exporter": "python",
   "pygments_lexer": "ipython3",
   "version": "3.7.4"
  }
 },
 "nbformat": 4,
 "nbformat_minor": 2
}
