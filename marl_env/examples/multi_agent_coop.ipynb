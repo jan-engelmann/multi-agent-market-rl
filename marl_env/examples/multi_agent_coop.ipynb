{
 "cells": [
  {
   "cell_type": "markdown",
   "metadata": {},
   "source": [
    "## Multiple simultaneous RL agent training\n",
    "\n",
    "In this example,  we consider training multiple RL agents using learning algorithms from [RLlib](https://ray.readthedocs.io/en/latest/rllib.html). To run this example, the package `ray[rllib]` needs to be installed."
   ]
  },
  {
   "cell_type": "code",
   "execution_count": 1,
   "metadata": {},
   "outputs": [],
   "source": [
    "import pandas as pd\n",
    "import numpy as np\n",
    "import matplotlib.pyplot as plt\n",
    "\n",
    "import warnings\n",
    "warnings.filterwarnings('ignore')"
   ]
  },
  {
   "cell_type": "code",
   "execution_count": 2,
   "metadata": {},
   "outputs": [
    {
     "name": "stdout",
     "output_type": "stream",
     "text": [
      "WARNING: Not monitoring node memory since `psutil` is not installed. Install this with `pip install psutil` (or ray[debug]) to enable debugging of memory-related crashes.\n"
     ]
    }
   ],
   "source": [
    "from dmarket.environments import MultiAgentTrainingEnv\n",
    "from dmarket.info_settings import OfferInformationSetting, TimeInformationWrapper\n",
    "from dmarket.agents import GymRLAgent, TimeLinearAgent\n",
    "\n",
    "from ray.rllib.env.multi_agent_env import MultiAgentEnv\n",
    "\n",
    "from gym.spaces import Box, Discrete"
   ]
  },
  {
   "cell_type": "markdown",
   "metadata": {},
   "source": [
    "Before we can use RLlib's algorithms, we need to wrap our own `MultiAgentTrainingEnv` to make it compatible with RLlib. This is very easy:"
   ]
  },
  {
   "cell_type": "code",
   "execution_count": 3,
   "metadata": {},
   "outputs": [],
   "source": [
    "class MultiWrapper(MultiAgentTrainingEnv, MultiAgentEnv):\n",
    "    def __init__(self, env_config):\n",
    "        super().__init__(**env_config)\n"
   ]
  },
  {
   "cell_type": "markdown",
   "metadata": {},
   "source": [
    "Then we can simply define RL agents & fixed agents and the info setting as usual."
   ]
  },
  {
   "cell_type": "markdown",
   "metadata": {},
   "source": [
    "## Cooperative play"
   ]
  },
  {
   "cell_type": "markdown",
   "metadata": {},
   "source": [
    "We have the following setting:\n",
    "- 1 RL buyer and 1 RL seller\n",
    "- 1 linear buyer and 1 linear seller\n",
    "\n",
    "The linear buyer will bid low first and raise its bid quickly.\n",
    "The linear seller will start high and drop its price, but at a slower pace.\n",
    "The best situation for both agent would be that the RL seller grabs\n",
    "the linear buyer first so that the RL buyer can wait till the linear seller\n",
    "drops his price minimally. **Both RL agents do not have access to timestamp,\n",
    "unlike the linear agents!** Will they be able to coordinate?"
   ]
  },
  {
   "cell_type": "code",
   "execution_count": 4,
   "metadata": {},
   "outputs": [],
   "source": [
    "rl_agents = [\n",
    "    GymRLAgent('seller', 90, 'S1', max_factor=0.25, discretization=20),\n",
    "    GymRLAgent('buyer', 110, 'B1', max_factor=0.25, discretization=20),\n",
    "]\n",
    "fixed_agents = [\n",
    "    TimeLinearAgent('buyer', 110, 'TB1', noise=0., max_steps=6),\n",
    "    TimeLinearAgent('seller', 90, 'TS3', noise=0., max_steps=20),\n",
    "]\n",
    "setting = TimeInformationWrapper(OfferInformationSetting(1))\n",
    "env = MultiAgentTrainingEnv(rl_agents, fixed_agents, setting) # Just for convenience"
   ]
  },
  {
   "cell_type": "markdown",
   "metadata": {},
   "source": [
    "Since RLlib works with policies and mapping of `agent_id` to `policy_id`, we should define the types of policies we use. Here, we use the default policy (which is usually based on a MLP neural network)."
   ]
  },
  {
   "cell_type": "code",
   "execution_count": 5,
   "metadata": {},
   "outputs": [],
   "source": [
    "my_policy = (None, env.observation_space, Discrete(20), {}) \n",
    "# None means this policy needs to be learned.\n",
    "# Note: The action space should match that of the GymRLAgent defined earlier\n",
    "\n",
    "def select_policy(agent_id):\n",
    "    \"\"\"This function maps the agent id to the policy id\"\"\"\n",
    "    return agent_id\n",
    "\n",
    "# We name our policies the same as our RL agents\n",
    "policies = {\n",
    "    'S1': my_policy,\n",
    "    'B1': my_policy,\n",
    "}"
   ]
  },
  {
   "cell_type": "markdown",
   "metadata": {},
   "source": [
    "For the RL algorithm, we'll using Deep-Q. To initialize the trainer, we pass the `MultiWrapper` class. The parameters will be passed through the `env_config` dictionary."
   ]
  },
  {
   "cell_type": "code",
   "execution_count": 6,
   "metadata": {},
   "outputs": [],
   "source": [
    "from ray.rllib.agents import dqn\n",
    "\n",
    "trainer = dqn.DQNTrainer(env=MultiWrapper, config={\n",
    "    \"env_config\": {\"rl_agents\": rl_agents, \"fixed_agents\": fixed_agents, \"setting\": setting},\n",
    "    \"timesteps_per_iteration\": 30,\n",
    "    \"multiagent\": {\n",
    "        \"policies\": policies,\n",
    "        \"policy_mapping_fn\": select_policy\n",
    "    },\n",
    "    \"log_level\": \"ERROR\",\n",
    "})"
   ]
  },
  {
   "cell_type": "markdown",
   "metadata": {},
   "source": [
    "Now we're ready to train! Simply calling `trainer.train()` will train the agents for one iteration. One such iteration will contain at least 30 market timesteps (but usually more), as specified above. \n",
    "\n",
    "This call will return some data regarding the training, we'll keep track of the mean episode reward during each iteration and the mean episode length of each iteration."
   ]
  },
  {
   "cell_type": "code",
   "execution_count": 7,
   "metadata": {},
   "outputs": [],
   "source": [
    "rewards = []\n",
    "episodes = []\n",
    "episode_len = []"
   ]
  },
  {
   "cell_type": "markdown",
   "metadata": {},
   "source": [
    "Let's train for 250 iterations. This should take about 5 minutes."
   ]
  },
  {
   "cell_type": "code",
   "execution_count": 10,
   "metadata": {},
   "outputs": [
    {
     "name": "stdout",
     "output_type": "stream",
     "text": [
      "CPU times: user 6min 38s, sys: 15.4 s, total: 6min 54s\n",
      "Wall time: 4min 23s\n"
     ]
    }
   ],
   "source": [
    "%%time\n",
    "for i in range(250):\n",
    "    result = trainer.train()\n",
    "    # append data, each of them is a single dictionary\n",
    "    rewards.append(result['policy_reward_mean'])\n",
    "    episodes.append(result['episodes_total'])\n",
    "    episode_len.append(result['episode_len_mean'])\n",
    "    "
   ]
  },
  {
   "cell_type": "markdown",
   "metadata": {},
   "source": [
    "Time to plot the results:"
   ]
  },
  {
   "cell_type": "code",
   "execution_count": 11,
   "metadata": {},
   "outputs": [
    {
     "data": {
      "image/png": "[encoded data removed]",
      "text/plain": [
       "<Figure size 432x288 with 1 Axes>"
      ]
     },
     "metadata": {
      "needs_background": "light"
     },
     "output_type": "display_data"
    },
    {
     "data": {
      "image/png": "[encoded data removed]",
      "text/plain": [
       "<Figure size 432x288 with 1 Axes>"
      ]
     },
     "metadata": {
      "needs_background": "light"
     },
     "output_type": "display_data"
    }
   ],
   "source": [
    "rew_df = pd.DataFrame(rewards, index=episodes)\n",
    "rew_df.index.name = 'Episodes'\n",
    "rew_df.plot()\n",
    "\n",
    "plt.ylabel(\"Mean reward\")\n",
    "\n",
    "plt.figure()\n",
    "len_df = pd.Series(episode_len, index=episodes)\n",
    "len_df.index.name = 'Episodes'\n",
    "len_df.plot()\n",
    "_ = plt.ylabel(\"Mean episode length\")"
   ]
  }
 ],
 "metadata": {
  "kernelspec": {
   "display_name": "abm",
   "language": "python",
   "name": "abm"
  },
  "language_info": {
   "codemirror_mode": {
    "name": "ipython",
    "version": 3
   },
   "file_extension": ".py",
   "mimetype": "text/x-python",
   "name": "python",
   "nbconvert_exporter": "python",
   "pygments_lexer": "ipython3",
   "version": "3.7.4"
  }
 },
 "nbformat": 4,
 "nbformat_minor": 2
}
